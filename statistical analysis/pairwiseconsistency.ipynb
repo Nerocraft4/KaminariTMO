{
 "cells": [
  {
   "cell_type": "code",
   "execution_count": 46,
   "metadata": {},
   "outputs": [],
   "source": [
    "from math import comb\n",
    "import numpy as np\n",
    "from scipy import stats as st"
   ]
  },
  {
   "cell_type": "code",
   "execution_count": 39,
   "metadata": {},
   "outputs": [
    {
     "name": "stdout",
     "output_type": "stream",
     "text": [
      "28.0\n"
     ]
    }
   ],
   "source": [
    "# GLOBALS\n",
    "S=1 #number of scenes\n",
    "M=2 #number of subjects\n",
    "N=8 #number of evaluated TMOs\n",
    "DF=N*(N-1)/2 #degrees of freedom"
   ]
  },
  {
   "cell_type": "code",
   "execution_count": 37,
   "metadata": {},
   "outputs": [],
   "source": [
    "#Intra-Subject Agreement\n",
    "def dst(agr_mat):\n",
    "    s = 0\n",
    "    for i in range(N):\n",
    "        s += sum(agr_mat[i])**2\n",
    "    d = N*(N-1)*(2*N-1)/12 - 0.5 * s\n",
    "    print(d)\n",
    "    return d\n",
    "\n",
    "def zst(d):\n",
    "    if N%2!=0:\n",
    "        z = 1-24*d/(N**3-N)\n",
    "    else:\n",
    "        z = 1-24*d/(N**3-4*N)\n",
    "    print(z)\n",
    "    return z\n",
    "\n",
    "#Inter-Subject Agreement (min is -1/(m-1) and max is 1)\n",
    "def us(glob_mat):\n",
    "    s = 0\n",
    "    for i in range(N):\n",
    "        for j in range(N):\n",
    "            if i!=j:\n",
    "                s+=comb(glob_mat[i][j],2)\n",
    "    a = comb(M,2)\n",
    "    b = comb(N,2)\n",
    "    u = 2*s/(a*b)-1\n",
    "    print(\"this is u\",u)\n",
    "    return u\n",
    "\n",
    "def xisqtest(u):\n",
    "    return (N*(N-1)*(1+u*(M-1))/2)\n"
   ]
  },
  {
   "cell_type": "code",
   "execution_count": 52,
   "metadata": {},
   "outputs": [
    {
     "name": "stdout",
     "output_type": "stream",
     "text": [
      "[0.71428571 0.85714286 0.71428571 0.28571429 0.64285714 0.42857143\n",
      " 0.         0.35714286]\n",
      "[0.5659488219328631, 1.0675705238781412, 0.5659488219328631, -0.5659488219328631, 0.3661063568005698, -0.1800123697927051, -inf, -0.36610635680056963]\n"
     ]
    }
   ],
   "source": [
    "#Thurstone Law Case V\n",
    "def thur(glob_mat):\n",
    "    vs = np.sum(a=glob_mat,axis=1)/(M*(N-1))\n",
    "    vs_norm = []\n",
    "    for v in vs:\n",
    "        vs_norm.append(st.norm.ppf(v))\n",
    "    print(vs)\n",
    "    print(vs_norm)\n",
    "# cal revisar tema -+ inf, pels casos extrems (que dubto que trobem). Si no, posar un max a 3-4 sigma\n",
    "\n",
    "thur(glob_mat) "
   ]
  },
  {
   "cell_type": "code",
   "execution_count": 53,
   "metadata": {},
   "outputs": [
    {
     "name": "stdout",
     "output_type": "stream",
     "text": [
      "5.0\n",
      "0.75\n",
      "8.0\n",
      "0.6\n",
      "this is u 0.8571428571428572\n",
      "done\n",
      "52.0\n"
     ]
    }
   ],
   "source": [
    "### main process ###\n",
    "\n",
    "#for each scene\n",
    "for s in range(S): \n",
    "    d_vec = []\n",
    "    z_vec = []\n",
    "    glob_mat = np.zeros(shape = [N,N], dtype=int)\n",
    "    #for each subject\n",
    "    for t in range(M):\n",
    "        v = str(s)+str(t)+\".txt\"\n",
    "        raw = np.genfromtxt(v, delimiter=' ', dtype=int)\n",
    "        raw += np.identity(N, dtype=int)\n",
    "        d = dst(raw)\n",
    "        z = zst(d)\n",
    "        d_vec.append(d)\n",
    "        z_vec.append(z)\n",
    "        glob_mat += raw\n",
    "    u = us(glob_mat)\n",
    "    print(\"done\")\n",
    "print(xisqtest(u))\n"
   ]
  }
 ],
 "metadata": {
  "kernelspec": {
   "display_name": "Python 3",
   "language": "python",
   "name": "python3"
  },
  "language_info": {
   "codemirror_mode": {
    "name": "ipython",
    "version": 3
   },
   "file_extension": ".py",
   "mimetype": "text/x-python",
   "name": "python",
   "nbconvert_exporter": "python",
   "pygments_lexer": "ipython3",
   "version": "3.10.11"
  }
 },
 "nbformat": 4,
 "nbformat_minor": 2
}
